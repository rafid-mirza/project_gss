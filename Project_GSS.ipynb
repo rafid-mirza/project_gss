{
  "nbformat": 4,
  "nbformat_minor": 0,
  "metadata": {
    "colab": {
      "provenance": []
    },
    "kernelspec": {
      "name": "python3",
      "display_name": "Python 3"
    },
    "language_info": {
      "name": "python"
    }
  },
  "cells": [
    {
      "cell_type": "markdown",
      "metadata": {
        "id": "view-in-github"
      },
      "source": [
        "<a href=\"https://colab.research.google.com/github/rafid-mirza/project_gss/blob/main/Project%20GSS.ipynb\" target=\"_parent\"><img src=\"https://colab.research.google.com/assets/colab-badge.svg\" alt=\"Open In Colab\"/></a>"
      ]
    },
    {
      "cell_type": "code",
      "execution_count": 48,
      "metadata": {
        "id": "0EPUiR51qjCV"
      },
      "outputs": [],
      "source": [
        "import pandas as pd\n",
        "import numpy as np\n",
        "import matplotlib.pyplot as plt\n",
        "import seaborn as sns"
      ]
    },
    {
      "cell_type": "code",
      "source": [
        "# Created an account and selected variables from the GSS explorer (https://gssdataexplorer.norc.org/variables/vfilter), then exported them into my own excel\n",
        "\n",
        "# DATA CLEANING FOR WWWHR VARIABLE\n",
        "\n",
        "data = pd.read_excel('./data/wwwhr.xlsx')\n",
        "# print(data.head())\n",
        "# print(data.describe())\n",
        "\n",
        "codes_to_remove = ['.i:  Inapplicable', '.p:  Not applicable (I have not faced this decision)/Not imputable', '.d:  Do not Know/Cannot Choose', '.n:  No answer']\n",
        "\n",
        "# Remove rows with the specified codes to get rid of unusable data\n",
        "cleaned_data = data[~data['wwwhr'].isin(codes_to_remove)].copy()\n",
        "\n",
        "# Replace \"0 hours\" with 0 and \"168 hours\" with 168\n",
        "cleaned_data['wwwhr'] = cleaned_data['wwwhr'].replace(\"0 hours\", 0)\n",
        "cleaned_data['wwwhr'] = cleaned_data['wwwhr'].replace(\"168 hours\", 168)\n",
        "\n",
        "# Convert 'wwwhr' to numeric, making non-convertible values NaN\n",
        "cleaned_data['wwwhr'] = pd.to_numeric(cleaned_data['wwwhr'], errors='coerce')\n",
        "\n",
        "# Remove all rows with NaN values in 'wwwhr'\n",
        "cleaned_data.dropna(subset=['wwwhr'], inplace=True)\n",
        "\n",
        "print(cleaned_data.head())\n",
        "print(cleaned_data.describe())\n"
      ],
      "metadata": {
        "colab": {
          "base_uri": "https://localhost:8080/"
        },
        "id": "ZSgmqOmUDCXv",
        "outputId": "4e1845eb-fe3b-4a15-a4f8-51ff9ac11eba"
      },
      "execution_count": 4,
      "outputs": [
        {
          "output_type": "stream",
          "name": "stdout",
          "text": [
            "       year  id_  wwwhr\n",
            "38116  2000    1    5.0\n",
            "38119  2000    4    2.0\n",
            "38120  2000    5    1.0\n",
            "38122  2000    7    0.0\n",
            "38124  2000    9    1.0\n",
            "               year           id_         wwwhr\n",
            "count  17186.000000  17186.000000  17186.000000\n",
            "mean    2012.449901   1559.351682     11.127080\n",
            "std        7.547115   1030.925901     15.244951\n",
            "min     2000.000000      1.000000      0.000000\n",
            "25%     2006.000000    721.000000      2.000000\n",
            "50%     2014.000000   1446.000000      5.000000\n",
            "75%     2021.000000   2216.000000     15.000000\n",
            "max     2022.000000   4506.000000    168.000000\n"
          ]
        }
      ]
    },
    {
      "cell_type": "code",
      "source": [
        "# Another approach to get the data is via fetching it from the parquet files\n",
        "\n",
        "\"\"\"\n",
        "The function below fetches and concatenates the three parquet dataset. This should\n",
        "return the entire datast. In addition, it also creates a csv files that gets the\n",
        "list of variables/features you want to save. Code retrieved from the get_gss.ipynb\n",
        "file.\n",
        "\n",
        "@output_filename : string that specifies the name of the output .csv file\n",
        "@var_list: list of variables to save\n",
        "\"\"\"\n",
        "def fetch_gss_chunks(output_filename, var_list):\n",
        "  # var_list = ['wrkstat', 'prestige'] # List of variables you want to save\n",
        "  output_filename = output_filename + \".csv\" # Name of the file you want to save the data to\n",
        "  #\n",
        "  modes = ['w','a'] # Has write mode and append mode\n",
        "  phase = 0 # Starts in write mode; after one iteration of loop, switches to append mode\n",
        "  #\n",
        "  for k in range(3): # for each chunk of the data\n",
        "      url = 'https://github.com/DS3001/project_gss/raw/main/gss_chunk_' + str(1+k) + '.parquet' # Create url to the chunk to be processed\n",
        "      print(url) # Check the url is correct\n",
        "      df = pd.read_parquet(url) # Download this chunk of data\n",
        "      print(df.head()) # Visually inspect the first few rows\n",
        "      df.loc[:,var_list].to_csv(output_filename, # specifies target file to save the chunk to\n",
        "                                mode=modes[phase], # control write versus append\n",
        "                                header=var_list, # variable names\n",
        "                                index=False) # no row index saved\n",
        "      phase = 1 # Switch from write mode to append mode\n",
        "\n",
        "  return df\n"
      ],
      "metadata": {
        "id": "XGupX3I278HR"
      },
      "execution_count": 5,
      "outputs": []
    },
    {
      "cell_type": "code",
      "source": [
        "# VISUALIZATION FOR WWWWHR VARIABLE\n",
        "# We see average web usage increase each year, indicating a wider acceptance of technology/internet usage as time passes and technology advances.\n",
        "\n",
        "# Calculate the average web usage hours per year\n",
        "yearly_avg_hours = cleaned_data.groupby('year')['wwwhr'].mean().reset_index()\n",
        "\n",
        "# Plotting\n",
        "plt.figure(figsize=(10, 6))\n",
        "sns.scatterplot(data=yearly_avg_hours, x='year', y='wwwhr')\n",
        "plt.title('Trend of Web Usage Hours Over Time')\n",
        "plt.xlabel('Year')\n",
        "plt.ylabel('Average Web Usage Hours per Week')\n",
        "plt.grid(True)\n",
        "plt.xticks(yearly_avg_hours['year'].unique(), rotation=45)\n",
        "plt.tight_layout()\n",
        "plt.show()\n",
        "\n",
        "yearly_avg_hours"
      ],
      "metadata": {
        "colab": {
          "base_uri": "https://localhost:8080/",
          "height": 984
        },
        "id": "36ix9tjGDN0a",
        "outputId": "618d7efb-ec61-4dfc-86bf-ceab5126967c"
      },
      "execution_count": 6,
      "outputs": [
        {
          "output_type": "display_data",
          "data": {
            "text/plain": [
              "<Figure size 1000x600 with 1 Axes>"
            ],
            "image/png": "[encoded data removed]"
          },
          "metadata": {}
        },
        {
          "output_type": "execute_result",
          "data": {
            "text/plain": [
              "    year      wwwhr\n",
              "0   2000   5.208417\n",
              "1   2002   5.907878\n",
              "2   2004   7.458554\n",
              "3   2006   8.909548\n",
              "4   2010   9.769524\n",
              "5   2012  10.445535\n",
              "6   2014  11.618299\n",
              "7   2016  13.078135\n",
              "8   2018  13.906021\n",
              "9   2021  14.802514\n",
              "10  2022  15.513622"
            ],
            "text/html": [
              "\n",
              "  <div id=\"df-cdb3aa28-2b21-4a53-a748-3edb6dfea5e8\" class=\"colab-df-container\">\n",
              "    <div>\n",
              "<style scoped>\n",
              "    .dataframe tbody tr th:only-of-type {\n",
              "        vertical-align: middle;\n",
              "    }\n",
              "\n",
              "    .dataframe tbody tr th {\n",
              "        vertical-align: top;\n",
              "    }\n",
              "\n",
              "    .dataframe thead th {\n",
              "        text-align: right;\n",
              "    }\n",
              "</style>\n",
              "<table border=\"1\" class=\"dataframe\">\n",
              "  <thead>\n",
              "    <tr style=\"text-align: right;\">\n",
              "      <th></th>\n",
              "      <th>year</th>\n",
              "      <th>wwwhr</th>\n",
              "    </tr>\n",
              "  </thead>\n",
              "  <tbody>\n",
              "    <tr>\n",
              "      <th>0</th>\n",
              "      <td>2000</td>\n",
              "      <td>5.208417</td>\n",
              "    </tr>\n",
              "    <tr>\n",
              "      <th>1</th>\n",
              "      <td>2002</td>\n",
              "      <td>5.907878</td>\n",
              "    </tr>\n",
              "    <tr>\n",
              "      <th>2</th>\n",
              "      <td>2004</td>\n",
              "      <td>7.458554</td>\n",
              "    </tr>\n",
              "    <tr>\n",
              "      <th>3</th>\n",
              "      <td>2006</td>\n",
              "      <td>8.909548</td>\n",
              "    </tr>\n",
              "    <tr>\n",
              "      <th>4</th>\n",
              "      <td>2010</td>\n",
              "      <td>9.769524</td>\n",
              "    </tr>\n",
              "    <tr>\n",
              "      <th>5</th>\n",
              "      <td>2012</td>\n",
              "      <td>10.445535</td>\n",
              "    </tr>\n",
              "    <tr>\n",
              "      <th>6</th>\n",
              "      <td>2014</td>\n",
              "      <td>11.618299</td>\n",
              "    </tr>\n",
              "    <tr>\n",
              "      <th>7</th>\n",
              "      <td>2016</td>\n",
              "      <td>13.078135</td>\n",
              "    </tr>\n",
              "    <tr>\n",
              "      <th>8</th>\n",
              "      <td>2018</td>\n",
              "      <td>13.906021</td>\n",
              "    </tr>\n",
              "    <tr>\n",
              "      <th>9</th>\n",
              "      <td>2021</td>\n",
              "      <td>14.802514</td>\n",
              "    </tr>\n",
              "    <tr>\n",
              "      <th>10</th>\n",
              "      <td>2022</td>\n",
              "      <td>15.513622</td>\n",
              "    </tr>\n",
              "  </tbody>\n",
              "</table>\n",
              "</div>\n",
              "    <div class=\"colab-df-buttons\">\n",
              "\n",
              "  <div class=\"colab-df-container\">\n",
              "    <button class=\"colab-df-convert\" onclick=\"convertToInteractive('df-cdb3aa28-2b21-4a53-a748-3edb6dfea5e8')\"\n",
              "            title=\"Convert this dataframe to an interactive table.\"\n",
              "            style=\"display:none;\">\n",
              "\n",
              "  <svg xmlns=\"http://www.w3.org/2000/svg\" height=\"24px\" viewBox=\"0 -960 960 960\">\n",
              "    <path d=\"M120-120v-720h720v720H120Zm60-500h600v-160H180v160Zm220 220h160v-160H400v160Zm0 220h160v-160H400v160ZM180-400h160v-160H180v160Zm440 0h160v-160H620v160ZM180-180h160v-160H180v160Zm440 0h160v-160H620v160Z\"/>\n",
              "  </svg>\n",
              "    </button>\n",
              "\n",
              "  <style>\n",
              "    .colab-df-container {\n",
              "      display:flex;\n",
              "      gap: 12px;\n",
              "    }\n",
              "\n",
              "    .colab-df-convert {\n",
              "      background-color: #E8F0FE;\n",
              "      border: none;\n",
              "      border-radius: 50%;\n",
              "      cursor: pointer;\n",
              "      display: none;\n",
              "      fill: #1967D2;\n",
              "      height: 32px;\n",
              "      padding: 0 0 0 0;\n",
              "      width: 32px;\n",
              "    }\n",
              "\n",
              "    .colab-df-convert:hover {\n",
              "      background-color: #E2EBFA;\n",
              "      box-shadow: 0px 1px 2px rgba(60, 64, 67, 0.3), 0px 1px 3px 1px rgba(60, 64, 67, 0.15);\n",
              "      fill: #174EA6;\n",
              "    }\n",
              "\n",
              "    .colab-df-buttons div {\n",
              "      margin-bottom: 4px;\n",
              "    }\n",
              "\n",
              "    [theme=dark] .colab-df-convert {\n",
              "      background-color: #3B4455;\n",
              "      fill: #D2E3FC;\n",
              "    }\n",
              "\n",
              "    [theme=dark] .colab-df-convert:hover {\n",
              "      background-color: #434B5C;\n",
              "      box-shadow: 0px 1px 3px 1px rgba(0, 0, 0, 0.15);\n",
              "      filter: drop-shadow(0px 1px 2px rgba(0, 0, 0, 0.3));\n",
              "      fill: #FFFFFF;\n",
              "    }\n",
              "  </style>\n",
              "\n",
              "    <script>\n",
              "      const buttonEl =\n",
              "        document.querySelector('#df-cdb3aa28-2b21-4a53-a748-3edb6dfea5e8 button.colab-df-convert');\n",
              "      buttonEl.style.display =\n",
              "        google.colab.kernel.accessAllowed ? 'block' : 'none';\n",
              "\n",
              "      async function convertToInteractive(key) {\n",
              "        const element = document.querySelector('#df-cdb3aa28-2b21-4a53-a748-3edb6dfea5e8');\n",
              "        const dataTable =\n",
              "          await google.colab.kernel.invokeFunction('convertToInteractive',\n",
              "                                                    [key], {});\n",
              "        if (!dataTable) return;\n",
              "\n",
              "        const docLinkHtml = 'Like what you see? Visit the ' +\n",
              "          '<a target=\"_blank\" href=https://colab.research.google.com/notebooks/data_table.ipynb>data table notebook</a>'\n",
              "          + ' to learn more about interactive tables.';\n",
              "        element.innerHTML = '';\n",
              "        dataTable['output_type'] = 'display_data';\n",
              "        await google.colab.output.renderOutput(dataTable, element);\n",
              "        const docLink = document.createElement('div');\n",
              "        docLink.innerHTML = docLinkHtml;\n",
              "        element.appendChild(docLink);\n",
              "      }\n",
              "    </script>\n",
              "  </div>\n",
              "\n",
              "\n",
              "<div id=\"df-afe72ebc-9205-4fc4-b89b-cecbc08a3bc9\">\n",
              "  <button class=\"colab-df-quickchart\" onclick=\"quickchart('df-afe72ebc-9205-4fc4-b89b-cecbc08a3bc9')\"\n",
              "            title=\"Suggest charts\"\n",
              "            style=\"display:none;\">\n",
              "\n",
              "<svg xmlns=\"http://www.w3.org/2000/svg\" height=\"24px\"viewBox=\"0 0 24 24\"\n",
              "     width=\"24px\">\n",
              "    <g>\n",
              "        <path d=\"M19 3H5c-1.1 0-2 .9-2 2v14c0 1.1.9 2 2 2h14c1.1 0 2-.9 2-2V5c0-1.1-.9-2-2-2zM9 17H7v-7h2v7zm4 0h-2V7h2v10zm4 0h-2v-4h2v4z\"/>\n",
              "    </g>\n",
              "</svg>\n",
              "  </button>\n",
              "\n",
              "<style>\n",
              "  .colab-df-quickchart {\n",
              "      --bg-color: #E8F0FE;\n",
              "      --fill-color: #1967D2;\n",
              "      --hover-bg-color: #E2EBFA;\n",
              "      --hover-fill-color: #174EA6;\n",
              "      --disabled-fill-color: #AAA;\n",
              "      --disabled-bg-color: #DDD;\n",
              "  }\n",
              "\n",
              "  [theme=dark] .colab-df-quickchart {\n",
              "      --bg-color: #3B4455;\n",
              "      --fill-color: #D2E3FC;\n",
              "      --hover-bg-color: #434B5C;\n",
              "      --hover-fill-color: #FFFFFF;\n",
              "      --disabled-bg-color: #3B4455;\n",
              "      --disabled-fill-color: #666;\n",
              "  }\n",
              "\n",
              "  .colab-df-quickchart {\n",
              "    background-color: var(--bg-color);\n",
              "    border: none;\n",
              "    border-radius: 50%;\n",
              "    cursor: pointer;\n",
              "    display: none;\n",
              "    fill: var(--fill-color);\n",
              "    height: 32px;\n",
              "    padding: 0;\n",
              "    width: 32px;\n",
              "  }\n",
              "\n",
              "  .colab-df-quickchart:hover {\n",
              "    background-color: var(--hover-bg-color);\n",
              "    box-shadow: 0 1px 2px rgba(60, 64, 67, 0.3), 0 1px 3px 1px rgba(60, 64, 67, 0.15);\n",
              "    fill: var(--button-hover-fill-color);\n",
              "  }\n",
              "\n",
              "  .colab-df-quickchart-complete:disabled,\n",
              "  .colab-df-quickchart-complete:disabled:hover {\n",
              "    background-color: var(--disabled-bg-color);\n",
              "    fill: var(--disabled-fill-color);\n",
              "    box-shadow: none;\n",
              "  }\n",
              "\n",
              "  .colab-df-spinner {\n",
              "    border: 2px solid var(--fill-color);\n",
              "    border-color: transparent;\n",
              "    border-bottom-color: var(--fill-color);\n",
              "    animation:\n",
              "      spin 1s steps(1) infinite;\n",
              "  }\n",
              "\n",
              "  @keyframes spin {\n",
              "    0% {\n",
              "      border-color: transparent;\n",
              "      border-bottom-color: var(--fill-color);\n",
              "      border-left-color: var(--fill-color);\n",
              "    }\n",
              "    20% {\n",
              "      border-color: transparent;\n",
              "      border-left-color: var(--fill-color);\n",
              "      border-top-color: var(--fill-color);\n",
              "    }\n",
              "    30% {\n",
              "      border-color: transparent;\n",
              "      border-left-color: var(--fill-color);\n",
              "      border-top-color: var(--fill-color);\n",
              "      border-right-color: var(--fill-color);\n",
              "    }\n",
              "    40% {\n",
              "      border-color: transparent;\n",
              "      border-right-color: var(--fill-color);\n",
              "      border-top-color: var(--fill-color);\n",
              "    }\n",
              "    60% {\n",
              "      border-color: transparent;\n",
              "      border-right-color: var(--fill-color);\n",
              "    }\n",
              "    80% {\n",
              "      border-color: transparent;\n",
              "      border-right-color: var(--fill-color);\n",
              "      border-bottom-color: var(--fill-color);\n",
              "    }\n",
              "    90% {\n",
              "      border-color: transparent;\n",
              "      border-bottom-color: var(--fill-color);\n",
              "    }\n",
              "  }\n",
              "</style>\n",
              "\n",
              "  <script>\n",
              "    async function quickchart(key) {\n",
              "      const quickchartButtonEl =\n",
              "        document.querySelector('#' + key + ' button');\n",
              "      quickchartButtonEl.disabled = true;  // To prevent multiple clicks.\n",
              "      quickchartButtonEl.classList.add('colab-df-spinner');\n",
              "      try {\n",
              "        const charts = await google.colab.kernel.invokeFunction(\n",
              "            'suggestCharts', [key], {});\n",
              "      } catch (error) {\n",
              "        console.error('Error during call to suggestCharts:', error);\n",
              "      }\n",
              "      quickchartButtonEl.classList.remove('colab-df-spinner');\n",
              "      quickchartButtonEl.classList.add('colab-df-quickchart-complete');\n",
              "    }\n",
              "    (() => {\n",
              "      let quickchartButtonEl =\n",
              "        document.querySelector('#df-afe72ebc-9205-4fc4-b89b-cecbc08a3bc9 button');\n",
              "      quickchartButtonEl.style.display =\n",
              "        google.colab.kernel.accessAllowed ? 'block' : 'none';\n",
              "    })();\n",
              "  </script>\n",
              "</div>\n",
              "\n",
              "  <div id=\"id_081e1554-82d8-426f-916c-924468b00765\">\n",
              "    <style>\n",
              "      .colab-df-generate {\n",
              "        background-color: #E8F0FE;\n",
              "        border: none;\n",
              "        border-radius: 50%;\n",
              "        cursor: pointer;\n",
              "        display: none;\n",
              "        fill: #1967D2;\n",
              "        height: 32px;\n",
              "        padding: 0 0 0 0;\n",
              "        width: 32px;\n",
              "      }\n",
              "\n",
              "      .colab-df-generate:hover {\n",
              "        background-color: #E2EBFA;\n",
              "        box-shadow: 0px 1px 2px rgba(60, 64, 67, 0.3), 0px 1px 3px 1px rgba(60, 64, 67, 0.15);\n",
              "        fill: #174EA6;\n",
              "      }\n",
              "\n",
              "      [theme=dark] .colab-df-generate {\n",
              "        background-color: #3B4455;\n",
              "        fill: #D2E3FC;\n",
              "      }\n",
              "\n",
              "      [theme=dark] .colab-df-generate:hover {\n",
              "        background-color: #434B5C;\n",
              "        box-shadow: 0px 1px 3px 1px rgba(0, 0, 0, 0.15);\n",
              "        filter: drop-shadow(0px 1px 2px rgba(0, 0, 0, 0.3));\n",
              "        fill: #FFFFFF;\n",
              "      }\n",
              "    </style>\n",
              "    <button class=\"colab-df-generate\" onclick=\"generateWithVariable('yearly_avg_hours')\"\n",
              "            title=\"Generate code using this dataframe.\"\n",
              "            style=\"display:none;\">\n",
              "\n",
              "  <svg xmlns=\"http://www.w3.org/2000/svg\" height=\"24px\"viewBox=\"0 0 24 24\"\n",
              "       width=\"24px\">\n",
              "    <path d=\"M7,19H8.4L18.45,9,17,7.55,7,17.6ZM5,21V16.75L18.45,3.32a2,2,0,0,1,2.83,0l1.4,1.43a1.91,1.91,0,0,1,.58,1.4,1.91,1.91,0,0,1-.58,1.4L9.25,21ZM18.45,9,17,7.55Zm-12,3A5.31,5.31,0,0,0,4.9,8.1,5.31,5.31,0,0,0,1,6.5,5.31,5.31,0,0,0,4.9,4.9,5.31,5.31,0,0,0,6.5,1,5.31,5.31,0,0,0,8.1,4.9,5.31,5.31,0,0,0,12,6.5,5.46,5.46,0,0,0,6.5,12Z\"/>\n",
              "  </svg>\n",
              "    </button>\n",
              "    <script>\n",
              "      (() => {\n",
              "      const buttonEl =\n",
              "        document.querySelector('#id_081e1554-82d8-426f-916c-924468b00765 button.colab-df-generate');\n",
              "      buttonEl.style.display =\n",
              "        google.colab.kernel.accessAllowed ? 'block' : 'none';\n",
              "\n",
              "      buttonEl.onclick = () => {\n",
              "        google.colab.notebook.generateWithVariable('yearly_avg_hours');\n",
              "      }\n",
              "      })();\n",
              "    </script>\n",
              "  </div>\n",
              "\n",
              "    </div>\n",
              "  </div>\n"
            ],
            "application/vnd.google.colaboratory.intrinsic+json": {
              "type": "dataframe",
              "variable_name": "yearly_avg_hours",
              "summary": "{\n  \"name\": \"yearly_avg_hours\",\n  \"rows\": 11,\n  \"fields\": [\n    {\n      \"column\": \"year\",\n      \"properties\": {\n        \"dtype\": \"number\",\n        \"std\": 7,\n        \"min\": 2000,\n        \"max\": 2022,\n        \"num_unique_values\": 11,\n        \"samples\": [\n          2012,\n          2000,\n          2021\n        ],\n        \"semantic_type\": \"\",\n        \"description\": \"\"\n      }\n    },\n    {\n      \"column\": \"wwwhr\",\n      \"properties\": {\n        \"dtype\": \"number\",\n        \"std\": 3.527572484128056,\n        \"min\": 5.208416833667335,\n        \"max\": 15.513622152746763,\n        \"num_unique_values\": 11,\n        \"samples\": [\n          10.445534838076545,\n          5.208416833667335,\n          14.802514193025141\n        ],\n        \"semantic_type\": \"\",\n        \"description\": \"\"\n      }\n    }\n  ]\n}"
            }
          },
          "metadata": {},
          "execution_count": 6
        }
      ]
    },
    {
      "cell_type": "code",
      "source": [
        "# With the KDE plot, we see a clear rightward shift in the peaks from 2000 to 2022. This indicates an overall increase in the number of hours spent on the web per week over time.\n",
        "# It suggests that, on average, people are using the web more as the years progress. The width of the distributions seems to broaden slightly over time as well, indicating that\n",
        "# the variability in web usage hours among individuals has increased.\n",
        "\n",
        "# Filter the dataset for a few selected years for clarity\n",
        "selected_years = cleaned_data[cleaned_data['year'].isin([2000, 2006, 2014, 2022])]\n",
        "\n",
        "# Plotting\n",
        "plt.figure(figsize=(12, 6))\n",
        "sns.kdeplot(data=selected_years, x='wwwhr', hue='year', fill=True)\n",
        "plt.title('Kernel Density Estimate of Weekly Web Usage Hours')\n",
        "plt.xlabel('Hours per Week')\n",
        "plt.ylabel('Density')\n",
        "plt.show()"
      ],
      "metadata": {
        "colab": {
          "base_uri": "https://localhost:8080/",
          "height": 564
        },
        "id": "YMYjoJUZDT0o",
        "outputId": "05beb4f7-083f-4025-cb56-70f973710f93"
      },
      "execution_count": 7,
      "outputs": [
        {
          "output_type": "display_data",
          "data": {
            "text/plain": [
              "<Figure size 1200x600 with 1 Axes>"
            ],
            "image/png": "[encoded data removed]"
          },
          "metadata": {}
        }
      ]
    },
    {
      "cell_type": "code",
      "source": [
        "# DATA CLEANING FOR WEBMOB VARIABLE\n",
        "\n",
        "data = pd.read_excel('./data/webmob.xlsx')\n",
        "# print(data.head())\n",
        "# print(data.describe())\n",
        "\n",
        "codes_to_remove.extend(['.n:  No answer', '.d:  Do not Know/Cannot Choose', '.s:  Skipped on Web'])\n",
        "\n",
        "# Remove rows with the specified codes to get rid of unusable data\n",
        "cleaned_data = data[~data['webmob'].isin(codes_to_remove)].copy()\n",
        "\n",
        "# print(cleaned_data.head())\n",
        "# print(cleaned_data.describe())"
      ],
      "metadata": {
        "id": "iaBBb-v2DdQP"
      },
      "execution_count": 8,
      "outputs": []
    },
    {
      "cell_type": "code",
      "source": [
        "# VISUALIZATION FOR WEBMOB VARIABLE\n",
        "# Although the number of people polled varied each year, we see over the years that the proportion of people responding yes increased.\n",
        "# Similarly, the amount of people responding no increased. This indicates that more people were gaining internet access in their homes through phones,\n",
        "# indicating a positive relationship with technological advancement.\n",
        "\n",
        "# Calculate the counts for each response per year.\n",
        "response_counts_by_year = cleaned_data.groupby(['year', 'webmob']).size().unstack(fill_value=0)\n",
        "\n",
        "response_counts_by_year.plot(kind='bar', stacked=True, figsize=(12, 8), width=0.95)\n",
        "plt.title('Histogram of Access to the Internet in Home through an Internet-enabled Mobile Device by Year')\n",
        "plt.xlabel('Year')\n",
        "plt.ylabel('Count')\n",
        "plt.xticks(rotation=45)\n",
        "plt.legend(title='Response')\n",
        "plt.show()\n",
        "\n",
        "\n",
        "total_responses_by_year = cleaned_data.groupby('year')['webmob'].count()\n",
        "total_responses_by_year_df = total_responses_by_year.reset_index()\n",
        "total_responses_by_year_df.columns = ['Year', 'Total Responses']\n",
        "total_responses_by_year_df\n"
      ],
      "metadata": {
        "id": "fUFqonRkDhvG",
        "outputId": "fe9bbeb6-a479-4b26-fe06-0b74f7166c71",
        "colab": {
          "base_uri": "https://localhost:8080/",
          "height": 991
        }
      },
      "execution_count": 9,
      "outputs": [
        {
          "output_type": "display_data",
          "data": {
            "text/plain": [
              "<Figure size 1200x800 with 1 Axes>"
            ],
            "image/png": "[encoded data removed]"
          },
          "metadata": {}
        },
        {
          "output_type": "execute_result",
          "data": {
            "text/plain": [
              "   Year  Total Responses\n",
              "0  2010              287\n",
              "1  2012              252\n",
              "2  2014              289\n",
              "3  2016              373\n",
              "4  2018              311\n",
              "5  2021              245\n",
              "6  2022              430"
            ],
            "text/html": [
              "\n",
              "  <div id=\"df-8da205c0-deb4-4d80-a545-86199a7a7ce5\" class=\"colab-df-container\">\n",
              "    <div>\n",
              "<style scoped>\n",
              "    .dataframe tbody tr th:only-of-type {\n",
              "        vertical-align: middle;\n",
              "    }\n",
              "\n",
              "    .dataframe tbody tr th {\n",
              "        vertical-align: top;\n",
              "    }\n",
              "\n",
              "    .dataframe thead th {\n",
              "        text-align: right;\n",
              "    }\n",
              "</style>\n",
              "<table border=\"1\" class=\"dataframe\">\n",
              "  <thead>\n",
              "    <tr style=\"text-align: right;\">\n",
              "      <th></th>\n",
              "      <th>Year</th>\n",
              "      <th>Total Responses</th>\n",
              "    </tr>\n",
              "  </thead>\n",
              "  <tbody>\n",
              "    <tr>\n",
              "      <th>0</th>\n",
              "      <td>2010</td>\n",
              "      <td>287</td>\n",
              "    </tr>\n",
              "    <tr>\n",
              "      <th>1</th>\n",
              "      <td>2012</td>\n",
              "      <td>252</td>\n",
              "    </tr>\n",
              "    <tr>\n",
              "      <th>2</th>\n",
              "      <td>2014</td>\n",
              "      <td>289</td>\n",
              "    </tr>\n",
              "    <tr>\n",
              "      <th>3</th>\n",
              "      <td>2016</td>\n",
              "      <td>373</td>\n",
              "    </tr>\n",
              "    <tr>\n",
              "      <th>4</th>\n",
              "      <td>2018</td>\n",
              "      <td>311</td>\n",
              "    </tr>\n",
              "    <tr>\n",
              "      <th>5</th>\n",
              "      <td>2021</td>\n",
              "      <td>245</td>\n",
              "    </tr>\n",
              "    <tr>\n",
              "      <th>6</th>\n",
              "      <td>2022</td>\n",
              "      <td>430</td>\n",
              "    </tr>\n",
              "  </tbody>\n",
              "</table>\n",
              "</div>\n",
              "    <div class=\"colab-df-buttons\">\n",
              "\n",
              "  <div class=\"colab-df-container\">\n",
              "    <button class=\"colab-df-convert\" onclick=\"convertToInteractive('df-8da205c0-deb4-4d80-a545-86199a7a7ce5')\"\n",
              "            title=\"Convert this dataframe to an interactive table.\"\n",
              "            style=\"display:none;\">\n",
              "\n",
              "  <svg xmlns=\"http://www.w3.org/2000/svg\" height=\"24px\" viewBox=\"0 -960 960 960\">\n",
              "    <path d=\"M120-120v-720h720v720H120Zm60-500h600v-160H180v160Zm220 220h160v-160H400v160Zm0 220h160v-160H400v160ZM180-400h160v-160H180v160Zm440 0h160v-160H620v160ZM180-180h160v-160H180v160Zm440 0h160v-160H620v160Z\"/>\n",
              "  </svg>\n",
              "    </button>\n",
              "\n",
              "  <style>\n",
              "    .colab-df-container {\n",
              "      display:flex;\n",
              "      gap: 12px;\n",
              "    }\n",
              "\n",
              "    .colab-df-convert {\n",
              "      background-color: #E8F0FE;\n",
              "      border: none;\n",
              "      border-radius: 50%;\n",
              "      cursor: pointer;\n",
              "      display: none;\n",
              "      fill: #1967D2;\n",
              "      height: 32px;\n",
              "      padding: 0 0 0 0;\n",
              "      width: 32px;\n",
              "    }\n",
              "\n",
              "    .colab-df-convert:hover {\n",
              "      background-color: #E2EBFA;\n",
              "      box-shadow: 0px 1px 2px rgba(60, 64, 67, 0.3), 0px 1px 3px 1px rgba(60, 64, 67, 0.15);\n",
              "      fill: #174EA6;\n",
              "    }\n",
              "\n",
              "    .colab-df-buttons div {\n",
              "      margin-bottom: 4px;\n",
              "    }\n",
              "\n",
              "    [theme=dark] .colab-df-convert {\n",
              "      background-color: #3B4455;\n",
              "      fill: #D2E3FC;\n",
              "    }\n",
              "\n",
              "    [theme=dark] .colab-df-convert:hover {\n",
              "      background-color: #434B5C;\n",
              "      box-shadow: 0px 1px 3px 1px rgba(0, 0, 0, 0.15);\n",
              "      filter: drop-shadow(0px 1px 2px rgba(0, 0, 0, 0.3));\n",
              "      fill: #FFFFFF;\n",
              "    }\n",
              "  </style>\n",
              "\n",
              "    <script>\n",
              "      const buttonEl =\n",
              "        document.querySelector('#df-8da205c0-deb4-4d80-a545-86199a7a7ce5 button.colab-df-convert');\n",
              "      buttonEl.style.display =\n",
              "        google.colab.kernel.accessAllowed ? 'block' : 'none';\n",
              "\n",
              "      async function convertToInteractive(key) {\n",
              "        const element = document.querySelector('#df-8da205c0-deb4-4d80-a545-86199a7a7ce5');\n",
              "        const dataTable =\n",
              "          await google.colab.kernel.invokeFunction('convertToInteractive',\n",
              "                                                    [key], {});\n",
              "        if (!dataTable) return;\n",
              "\n",
              "        const docLinkHtml = 'Like what you see? Visit the ' +\n",
              "          '<a target=\"_blank\" href=https://colab.research.google.com/notebooks/data_table.ipynb>data table notebook</a>'\n",
              "          + ' to learn more about interactive tables.';\n",
              "        element.innerHTML = '';\n",
              "        dataTable['output_type'] = 'display_data';\n",
              "        await google.colab.output.renderOutput(dataTable, element);\n",
              "        const docLink = document.createElement('div');\n",
              "        docLink.innerHTML = docLinkHtml;\n",
              "        element.appendChild(docLink);\n",
              "      }\n",
              "    </script>\n",
              "  </div>\n",
              "\n",
              "\n",
              "<div id=\"df-e9005f9e-ab30-43d2-9a8f-8e3a3b08a42a\">\n",
              "  <button class=\"colab-df-quickchart\" onclick=\"quickchart('df-e9005f9e-ab30-43d2-9a8f-8e3a3b08a42a')\"\n",
              "            title=\"Suggest charts\"\n",
              "            style=\"display:none;\">\n",
              "\n",
              "<svg xmlns=\"http://www.w3.org/2000/svg\" height=\"24px\"viewBox=\"0 0 24 24\"\n",
              "     width=\"24px\">\n",
              "    <g>\n",
              "        <path d=\"M19 3H5c-1.1 0-2 .9-2 2v14c0 1.1.9 2 2 2h14c1.1 0 2-.9 2-2V5c0-1.1-.9-2-2-2zM9 17H7v-7h2v7zm4 0h-2V7h2v10zm4 0h-2v-4h2v4z\"/>\n",
              "    </g>\n",
              "</svg>\n",
              "  </button>\n",
              "\n",
              "<style>\n",
              "  .colab-df-quickchart {\n",
              "      --bg-color: #E8F0FE;\n",
              "      --fill-color: #1967D2;\n",
              "      --hover-bg-color: #E2EBFA;\n",
              "      --hover-fill-color: #174EA6;\n",
              "      --disabled-fill-color: #AAA;\n",
              "      --disabled-bg-color: #DDD;\n",
              "  }\n",
              "\n",
              "  [theme=dark] .colab-df-quickchart {\n",
              "      --bg-color: #3B4455;\n",
              "      --fill-color: #D2E3FC;\n",
              "      --hover-bg-color: #434B5C;\n",
              "      --hover-fill-color: #FFFFFF;\n",
              "      --disabled-bg-color: #3B4455;\n",
              "      --disabled-fill-color: #666;\n",
              "  }\n",
              "\n",
              "  .colab-df-quickchart {\n",
              "    background-color: var(--bg-color);\n",
              "    border: none;\n",
              "    border-radius: 50%;\n",
              "    cursor: pointer;\n",
              "    display: none;\n",
              "    fill: var(--fill-color);\n",
              "    height: 32px;\n",
              "    padding: 0;\n",
              "    width: 32px;\n",
              "  }\n",
              "\n",
              "  .colab-df-quickchart:hover {\n",
              "    background-color: var(--hover-bg-color);\n",
              "    box-shadow: 0 1px 2px rgba(60, 64, 67, 0.3), 0 1px 3px 1px rgba(60, 64, 67, 0.15);\n",
              "    fill: var(--button-hover-fill-color);\n",
              "  }\n",
              "\n",
              "  .colab-df-quickchart-complete:disabled,\n",
              "  .colab-df-quickchart-complete:disabled:hover {\n",
              "    background-color: var(--disabled-bg-color);\n",
              "    fill: var(--disabled-fill-color);\n",
              "    box-shadow: none;\n",
              "  }\n",
              "\n",
              "  .colab-df-spinner {\n",
              "    border: 2px solid var(--fill-color);\n",
              "    border-color: transparent;\n",
              "    border-bottom-color: var(--fill-color);\n",
              "    animation:\n",
              "      spin 1s steps(1) infinite;\n",
              "  }\n",
              "\n",
              "  @keyframes spin {\n",
              "    0% {\n",
              "      border-color: transparent;\n",
              "      border-bottom-color: var(--fill-color);\n",
              "      border-left-color: var(--fill-color);\n",
              "    }\n",
              "    20% {\n",
              "      border-color: transparent;\n",
              "      border-left-color: var(--fill-color);\n",
              "      border-top-color: var(--fill-color);\n",
              "    }\n",
              "    30% {\n",
              "      border-color: transparent;\n",
              "      border-left-color: var(--fill-color);\n",
              "      border-top-color: var(--fill-color);\n",
              "      border-right-color: var(--fill-color);\n",
              "    }\n",
              "    40% {\n",
              "      border-color: transparent;\n",
              "      border-right-color: var(--fill-color);\n",
              "      border-top-color: var(--fill-color);\n",
              "    }\n",
              "    60% {\n",
              "      border-color: transparent;\n",
              "      border-right-color: var(--fill-color);\n",
              "    }\n",
              "    80% {\n",
              "      border-color: transparent;\n",
              "      border-right-color: var(--fill-color);\n",
              "      border-bottom-color: var(--fill-color);\n",
              "    }\n",
              "    90% {\n",
              "      border-color: transparent;\n",
              "      border-bottom-color: var(--fill-color);\n",
              "    }\n",
              "  }\n",
              "</style>\n",
              "\n",
              "  <script>\n",
              "    async function quickchart(key) {\n",
              "      const quickchartButtonEl =\n",
              "        document.querySelector('#' + key + ' button');\n",
              "      quickchartButtonEl.disabled = true;  // To prevent multiple clicks.\n",
              "      quickchartButtonEl.classList.add('colab-df-spinner');\n",
              "      try {\n",
              "        const charts = await google.colab.kernel.invokeFunction(\n",
              "            'suggestCharts', [key], {});\n",
              "      } catch (error) {\n",
              "        console.error('Error during call to suggestCharts:', error);\n",
              "      }\n",
              "      quickchartButtonEl.classList.remove('colab-df-spinner');\n",
              "      quickchartButtonEl.classList.add('colab-df-quickchart-complete');\n",
              "    }\n",
              "    (() => {\n",
              "      let quickchartButtonEl =\n",
              "        document.querySelector('#df-e9005f9e-ab30-43d2-9a8f-8e3a3b08a42a button');\n",
              "      quickchartButtonEl.style.display =\n",
              "        google.colab.kernel.accessAllowed ? 'block' : 'none';\n",
              "    })();\n",
              "  </script>\n",
              "</div>\n",
              "\n",
              "  <div id=\"id_a564c7ed-4794-4e4a-be6b-a3ef266d1edc\">\n",
              "    <style>\n",
              "      .colab-df-generate {\n",
              "        background-color: #E8F0FE;\n",
              "        border: none;\n",
              "        border-radius: 50%;\n",
              "        cursor: pointer;\n",
              "        display: none;\n",
              "        fill: #1967D2;\n",
              "        height: 32px;\n",
              "        padding: 0 0 0 0;\n",
              "        width: 32px;\n",
              "      }\n",
              "\n",
              "      .colab-df-generate:hover {\n",
              "        background-color: #E2EBFA;\n",
              "        box-shadow: 0px 1px 2px rgba(60, 64, 67, 0.3), 0px 1px 3px 1px rgba(60, 64, 67, 0.15);\n",
              "        fill: #174EA6;\n",
              "      }\n",
              "\n",
              "      [theme=dark] .colab-df-generate {\n",
              "        background-color: #3B4455;\n",
              "        fill: #D2E3FC;\n",
              "      }\n",
              "\n",
              "      [theme=dark] .colab-df-generate:hover {\n",
              "        background-color: #434B5C;\n",
              "        box-shadow: 0px 1px 3px 1px rgba(0, 0, 0, 0.15);\n",
              "        filter: drop-shadow(0px 1px 2px rgba(0, 0, 0, 0.3));\n",
              "        fill: #FFFFFF;\n",
              "      }\n",
              "    </style>\n",
              "    <button class=\"colab-df-generate\" onclick=\"generateWithVariable('total_responses_by_year_df')\"\n",
              "            title=\"Generate code using this dataframe.\"\n",
              "            style=\"display:none;\">\n",
              "\n",
              "  <svg xmlns=\"http://www.w3.org/2000/svg\" height=\"24px\"viewBox=\"0 0 24 24\"\n",
              "       width=\"24px\">\n",
              "    <path d=\"M7,19H8.4L18.45,9,17,7.55,7,17.6ZM5,21V16.75L18.45,3.32a2,2,0,0,1,2.83,0l1.4,1.43a1.91,1.91,0,0,1,.58,1.4,1.91,1.91,0,0,1-.58,1.4L9.25,21ZM18.45,9,17,7.55Zm-12,3A5.31,5.31,0,0,0,4.9,8.1,5.31,5.31,0,0,0,1,6.5,5.31,5.31,0,0,0,4.9,4.9,5.31,5.31,0,0,0,6.5,1,5.31,5.31,0,0,0,8.1,4.9,5.31,5.31,0,0,0,12,6.5,5.46,5.46,0,0,0,6.5,12Z\"/>\n",
              "  </svg>\n",
              "    </button>\n",
              "    <script>\n",
              "      (() => {\n",
              "      const buttonEl =\n",
              "        document.querySelector('#id_a564c7ed-4794-4e4a-be6b-a3ef266d1edc button.colab-df-generate');\n",
              "      buttonEl.style.display =\n",
              "        google.colab.kernel.accessAllowed ? 'block' : 'none';\n",
              "\n",
              "      buttonEl.onclick = () => {\n",
              "        google.colab.notebook.generateWithVariable('total_responses_by_year_df');\n",
              "      }\n",
              "      })();\n",
              "    </script>\n",
              "  </div>\n",
              "\n",
              "    </div>\n",
              "  </div>\n"
            ],
            "application/vnd.google.colaboratory.intrinsic+json": {
              "type": "dataframe",
              "variable_name": "total_responses_by_year_df",
              "summary": "{\n  \"name\": \"total_responses_by_year_df\",\n  \"rows\": 7,\n  \"fields\": [\n    {\n      \"column\": \"Year\",\n      \"properties\": {\n        \"dtype\": \"number\",\n        \"std\": 4,\n        \"min\": 2010,\n        \"max\": 2022,\n        \"num_unique_values\": 7,\n        \"samples\": [\n          2010,\n          2012,\n          2021\n        ],\n        \"semantic_type\": \"\",\n        \"description\": \"\"\n      }\n    },\n    {\n      \"column\": \"Total Responses\",\n      \"properties\": {\n        \"dtype\": \"number\",\n        \"std\": 66,\n        \"min\": 245,\n        \"max\": 430,\n        \"num_unique_values\": 7,\n        \"samples\": [\n          287,\n          252,\n          245\n        ],\n        \"semantic_type\": \"\",\n        \"description\": \"\"\n      }\n    }\n  ]\n}"
            }
          },
          "metadata": {},
          "execution_count": 9
        }
      ]
    },
    {
      "cell_type": "code",
      "source": [
        "# fetch the data\n",
        "gss_dataset = fetch_gss_chunks(\"gss_dataset\", ['wrkstat', 'prestige'])"
      ],
      "metadata": {
        "colab": {
          "base_uri": "https://localhost:8080/"
        },
        "id": "Rl-ds1X_7jSp",
        "outputId": "23ebfdd0-9844-4fa0-bd3c-0dc43c159a57"
      },
      "execution_count": 10,
      "outputs": [
        {
          "output_type": "stream",
          "name": "stdout",
          "text": [
            "https://github.com/DS3001/project_gss/raw/main/gss_chunk_1.parquet\n",
            "   year  id            wrkstat  hrs1  hrs2 evwork    occ  prestige  \\\n",
            "0  1972   1  working full time   NaN   NaN    NaN  205.0      50.0   \n",
            "1  1972   2            retired   NaN   NaN    yes  441.0      45.0   \n",
            "2  1972   3  working part time   NaN   NaN    NaN  270.0      44.0   \n",
            "3  1972   4  working full time   NaN   NaN    NaN    1.0      57.0   \n",
            "4  1972   5      keeping house   NaN   NaN    yes  385.0      40.0   \n",
            "\n",
            "         wrkslf wrkgovt  ...  agehef12 agehef13 agehef14  hompoph wtssps_nea  \\\n",
            "0  someone else     NaN  ...       NaN      NaN      NaN      NaN        NaN   \n",
            "1  someone else     NaN  ...       NaN      NaN      NaN      NaN        NaN   \n",
            "2  someone else     NaN  ...       NaN      NaN      NaN      NaN        NaN   \n",
            "3  someone else     NaN  ...       NaN      NaN      NaN      NaN        NaN   \n",
            "4  someone else     NaN  ...       NaN      NaN      NaN      NaN        NaN   \n",
            "\n",
            "   wtssnrps_nea  wtssps_next wtssnrps_next wtsscomp wtsscompnr  \n",
            "0           NaN          NaN           NaN   0.4446        NaN  \n",
            "1           NaN          NaN           NaN   0.8893        NaN  \n",
            "2           NaN          NaN           NaN   0.8893        NaN  \n",
            "3           NaN          NaN           NaN   0.8893        NaN  \n",
            "4           NaN          NaN           NaN   0.8893        NaN  \n",
            "\n",
            "[5 rows x 6694 columns]\n",
            "https://github.com/DS3001/project_gss/raw/main/gss_chunk_2.parquet\n",
            "   year   id            wrkstat  hrs1  hrs2 evwork    occ  prestige  \\\n",
            "0  1989  775            retired   NaN   NaN    yes  540.0      36.0   \n",
            "1  1989  776  working full time  40.0   NaN    NaN  925.0      36.0   \n",
            "2  1989  777            retired   NaN   NaN    yes   80.0      61.0   \n",
            "3  1989  778  working full time  44.0   NaN    NaN  912.0      26.0   \n",
            "4  1989  779            retired   NaN   NaN    yes  690.0      32.0   \n",
            "\n",
            "         wrkslf wrkgovt  ...  agehef12 agehef13 agehef14  hompoph wtssps_nea  \\\n",
            "0  someone else     NaN  ...       NaN      NaN      NaN      NaN        NaN   \n",
            "1  someone else     NaN  ...       NaN      NaN      NaN      NaN        NaN   \n",
            "2  someone else     NaN  ...       NaN      NaN      NaN      NaN        NaN   \n",
            "3  someone else     NaN  ...       NaN      NaN      NaN      NaN        NaN   \n",
            "4  someone else     NaN  ...       NaN      NaN      NaN      NaN        NaN   \n",
            "\n",
            "   wtssnrps_nea  wtssps_next wtssnrps_next  wtsscomp wtsscompnr  \n",
            "0           NaN          NaN           NaN  1.295069        NaN  \n",
            "1           NaN          NaN           NaN  0.483624        NaN  \n",
            "2           NaN          NaN           NaN  0.407988        NaN  \n",
            "3           NaN          NaN           NaN  1.225988        NaN  \n",
            "4           NaN          NaN           NaN  0.504302        NaN  \n",
            "\n",
            "[5 rows x 6694 columns]\n",
            "https://github.com/DS3001/project_gss/raw/main/gss_chunk_3.parquet\n",
            "   year    id            wrkstat  hrs1  hrs2 evwork  occ  prestige  \\\n",
            "0  2006  1751  working full time  40.0   NaN    NaN  NaN       NaN   \n",
            "1  2006  1752          in school   NaN   NaN    yes  NaN       NaN   \n",
            "2  2006  1753  working full time  35.0   NaN    NaN  NaN       NaN   \n",
            "3  2006  1754  working full time  50.0   NaN    NaN  NaN       NaN   \n",
            "4  2006  1755  working full time  40.0   NaN    NaN  NaN       NaN   \n",
            "\n",
            "         wrkslf     wrkgovt  ...  agehef12 agehef13 agehef14  hompoph  \\\n",
            "0  someone else  government  ...       NaN      NaN      NaN      NaN   \n",
            "1  someone else     private  ...       NaN      NaN      NaN      NaN   \n",
            "2  someone else  government  ...       NaN      NaN      NaN      NaN   \n",
            "3  someone else  government  ...       NaN      NaN      NaN      NaN   \n",
            "4  someone else     private  ...       NaN      NaN      NaN      NaN   \n",
            "\n",
            "  wtssps_nea  wtssnrps_nea  wtssps_next wtssnrps_next  wtsscomp wtsscompnr  \n",
            "0        NaN           NaN          NaN           NaN  1.079141   0.961150  \n",
            "1        NaN           NaN          NaN           NaN  7.673834   6.641571  \n",
            "2        NaN           NaN          NaN           NaN  0.584663   0.512145  \n",
            "3        NaN           NaN          NaN           NaN  0.715731   0.637592  \n",
            "4        NaN           NaN          NaN           NaN  1.094831   0.956094  \n",
            "\n",
            "[5 rows x 6694 columns]\n"
          ]
        }
      ]
    },
    {
      "cell_type": "markdown",
      "source": [
        "## **Inttech and Scifrom Categories**"
      ],
      "metadata": {
        "id": "rwzQxbGz_ujg"
      }
    },
    {
      "cell_type": "code",
      "source": [
        "variables_of_interest = [\"inttech\", \"scifrom\"]\n",
        "\n",
        "inttech_scifrom_dataset = gss_dataset.loc[:, variables_of_interest]\n",
        "print(inttech_scifrom_dataset.head)"
      ],
      "metadata": {
        "colab": {
          "base_uri": "https://localhost:8080/"
        },
        "id": "2IB27a53-YcI",
        "outputId": "b1218747-ec69-416b-9f9e-00b2d3aeb949"
      },
      "execution_count": 11,
      "outputs": [
        {
          "output_type": "stream",
          "name": "stdout",
          "text": [
            "<bound method NDFrame.head of       inttech       scifrom\n",
            "0         NaN           NaN\n",
            "1         NaN  the internet\n",
            "2         NaN     magazines\n",
            "3         NaN           NaN\n",
            "4         NaN            tv\n",
            "...       ...           ...\n",
            "24125     NaN           NaN\n",
            "24126     NaN           NaN\n",
            "24127     NaN           NaN\n",
            "24128     NaN           NaN\n",
            "24129     NaN           NaN\n",
            "\n",
            "[24130 rows x 2 columns]>\n"
          ]
        }
      ]
    },
    {
      "cell_type": "markdown",
      "source": [
        "### **Inttech Feature**"
      ],
      "metadata": {
        "id": "tbpft5hEAM16"
      }
    },
    {
      "cell_type": "code",
      "source": [
        "#  inttech features processing\n",
        "inttech_feature = inttech_scifrom_dataset[\"inttech\"]\n",
        "\n",
        "print(inttech_feature.shape)\n",
        "print(inttech_feature.describe())\n",
        "print(inttech_feature.unique())\n",
        "print(inttech_feature.value_counts())"
      ],
      "metadata": {
        "colab": {
          "base_uri": "https://localhost:8080/"
        },
        "id": "T5hnxVZz_qcQ",
        "outputId": "e1a35cb6-3ae3-4af9-d606-1d3a6f519684"
      },
      "execution_count": 12,
      "outputs": [
        {
          "output_type": "stream",
          "name": "stdout",
          "text": [
            "(24130,)\n",
            "count                      8860\n",
            "unique                        3\n",
            "top       moderately interested\n",
            "freq                       4161\n",
            "Name: inttech, dtype: object\n",
            "[NaN, 'very interested', 'not at all interested', 'moderately interested']\n",
            "Categories (16, object): ['very interested', 'moderately interested', 'not at all interested',\n",
            "                          'don't know', ..., 'uncodeable', 'not available in this release',\n",
            "                          'not available in this year', 'see codebook']\n",
            "moderately interested            4161\n",
            "very interested                  3666\n",
            "not at all interested            1033\n",
            "don't know                          0\n",
            "iap                                 0\n",
            "I don't have a job                  0\n",
            "dk, na, iap                         0\n",
            "no answer                           0\n",
            "not imputable_(2147483637)          0\n",
            "not imputable_(2147483638)          0\n",
            "refused                             0\n",
            "skipped on web                      0\n",
            "uncodeable                          0\n",
            "not available in this release       0\n",
            "not available in this year          0\n",
            "see codebook                        0\n",
            "Name: inttech, dtype: int64\n"
          ]
        }
      ]
    },
    {
      "cell_type": "code",
      "source": [
        "\"\"\"\n",
        "This function is used to replace one value with another.\n",
        "\n",
        "@datapoint : the value to test\n",
        "@current : the value you want to replace\n",
        "@new : the new value you want to replace the current value with\n",
        "@keep : a boolean that determines if you want to replace your current value or\n",
        "        keep your current value and replace everything else\n",
        "\"\"\"\n",
        "\n",
        "def replace_value(datapoint, current, new):\n",
        "\n",
        "  for value in current:\n",
        "    if datapoint == value:\n",
        "      return new\n",
        "  return datapoint\n",
        "\n",
        "def replace_others(datapoint, current, new):\n",
        "  for value in current:\n",
        "    if datapoint != value:\n",
        "      return new\n",
        "\n",
        "  return datapoint"
      ],
      "metadata": {
        "id": "_fp-vayPBNSP"
      },
      "execution_count": 13,
      "outputs": []
    },
    {
      "cell_type": "code",
      "source": [
        "inttech_feature_cleaned = inttech_feature.apply(lambda x: replace_value(x, [\"don't know\", \"iap\", \"I don't have a job\", \"dk, na, iap\", \"no answer\",\n",
        "                                                                            \"not imputable_(2147483637)\", \"not imputable_(2147483638)\", \"refused\", \"skipped on web\",\n",
        "                                                                            \"uncodeable\", \"not available in this release\", \"not available in this year\",\n",
        "                                                                            \"see codebook\"], \"not applicable\"))"
      ],
      "metadata": {
        "id": "FFWCzi_uB1E_"
      },
      "execution_count": 14,
      "outputs": []
    },
    {
      "cell_type": "code",
      "source": [
        "print(inttech_feature_cleaned.value_counts())\n",
        "print(inttech_feature_cleaned.unique())\n",
        "print(inttech_feature_cleaned.shape)\n",
        "print(inttech_feature_cleaned.isna().sum())"
      ],
      "metadata": {
        "colab": {
          "base_uri": "https://localhost:8080/"
        },
        "id": "MPFFue7IELa-",
        "outputId": "c9c46d83-0bd5-46c7-caf8-ba61e7611066"
      },
      "execution_count": 15,
      "outputs": [
        {
          "output_type": "stream",
          "name": "stdout",
          "text": [
            "moderately interested    4161\n",
            "very interested          3666\n",
            "not at all interested    1033\n",
            "Name: inttech, dtype: int64\n",
            "[nan 'very interested' 'not at all interested' 'moderately interested']\n",
            "(24130,)\n",
            "15270\n"
          ]
        }
      ]
    },
    {
      "cell_type": "code",
      "source": [
        "print(inttech_feature_cleaned.value_counts())\n",
        "print(inttech_feature_cleaned.unique())"
      ],
      "metadata": {
        "colab": {
          "base_uri": "https://localhost:8080/"
        },
        "id": "KR2gvWMEENJm",
        "outputId": "c79855ff-0815-42c9-92dd-1d4343d1288a"
      },
      "execution_count": 16,
      "outputs": [
        {
          "output_type": "stream",
          "name": "stdout",
          "text": [
            "moderately interested    4161\n",
            "very interested          3666\n",
            "not at all interested    1033\n",
            "Name: inttech, dtype: int64\n",
            "[nan 'very interested' 'not at all interested' 'moderately interested']\n"
          ]
        }
      ]
    },
    {
      "cell_type": "code",
      "source": [
        "inttech_feature_cleaned = inttech_feature_cleaned.replace(np.nan, \"not applicable\")"
      ],
      "metadata": {
        "id": "ioKi0y8qIfM-"
      },
      "execution_count": 29,
      "outputs": []
    },
    {
      "cell_type": "code",
      "source": [
        "print(inttech_feature_cleaned.head())\n",
        "print(inttech_feature_cleaned.value_counts())\n",
        "print(inttech_feature_cleaned.unique())"
      ],
      "metadata": {
        "colab": {
          "base_uri": "https://localhost:8080/"
        },
        "id": "7PpVkQDeJm4m",
        "outputId": "a271c236-e4f2-451e-b2b1-416eda66990b"
      },
      "execution_count": 18,
      "outputs": [
        {
          "output_type": "stream",
          "name": "stdout",
          "text": [
            "0    not applicable\n",
            "1    not applicable\n",
            "2    not applicable\n",
            "3    not applicable\n",
            "4    not applicable\n",
            "Name: inttech, dtype: object\n",
            "not applicable           15270\n",
            "moderately interested     4161\n",
            "very interested           3666\n",
            "not at all interested     1033\n",
            "Name: inttech, dtype: int64\n",
            "['not applicable' 'very interested' 'not at all interested'\n",
            " 'moderately interested']\n"
          ]
        }
      ]
    },
    {
      "cell_type": "markdown",
      "source": [
        "One of the biggest problems with this particular feature is that it has a lot of categories that do not make sense. So for the sake of simplifying our understanding and cleaning the data, I decided to replace all *non-informative* variables and missing values with **not applicable**. This should provide with a more standardized way of handling those types of situations."
      ],
      "metadata": {
        "id": "fOKB9omVKRcB"
      }
    },
    {
      "cell_type": "code",
      "source": [
        "# visualize the data\n",
        "print(inttech_feature_cleaned.hist(), \"\\n\")\n",
        "print(inttech_feature_cleaned.value_counts(), \"\\n\")"
      ],
      "metadata": {
        "colab": {
          "base_uri": "https://localhost:8080/",
          "height": 574
        },
        "id": "q1cQR09BJsue",
        "outputId": "07542df0-ba48-4025-908c-67ffddd9784d"
      },
      "execution_count": 19,
      "outputs": [
        {
          "output_type": "stream",
          "name": "stdout",
          "text": [
            "Axes(0.125,0.11;0.775x0.77) \n",
            "\n",
            "not applicable           15270\n",
            "moderately interested     4161\n",
            "very interested           3666\n",
            "not at all interested     1033\n",
            "Name: inttech, dtype: int64 \n",
            "\n"
          ]
        },
        {
          "output_type": "display_data",
          "data": {
            "text/plain": [
              "<Figure size 640x480 with 1 Axes>"
            ],
            "image/png": "[encoded data removed]"
          },
          "metadata": {}
        }
      ]
    },
    {
      "cell_type": "code",
      "source": [
        "sns.histplot(inttech_feature_cleaned)"
      ],
      "metadata": {
        "colab": {
          "base_uri": "https://localhost:8080/",
          "height": 471
        },
        "id": "NOfThTmHNDdX",
        "outputId": "3b49ecfe-e7e2-4e2f-d99b-2a66db5117b1"
      },
      "execution_count": 20,
      "outputs": [
        {
          "output_type": "execute_result",
          "data": {
            "text/plain": [
              "<Axes: xlabel='inttech', ylabel='Count'>"
            ]
          },
          "metadata": {},
          "execution_count": 20
        },
        {
          "output_type": "display_data",
          "data": {
            "text/plain": [
              "<Figure size 640x480 with 1 Axes>"
            ],
            "image/png": "[encoded data removed]"
          },
          "metadata": {}
        }
      ]
    },
    {
      "cell_type": "markdown",
      "source": [
        "It seems as if the largest count happens to be **not applicable** by a large margin. This could mean that the surveyees either did not respond, could not choose, or something the question was skipped. Of all the people who did respond, it seems as if most people are interested in technology."
      ],
      "metadata": {
        "id": "rk5XDnh7N88G"
      }
    },
    {
      "cell_type": "markdown",
      "source": [
        "### **Scifrom Dataset**"
      ],
      "metadata": {
        "id": "UFWsRXxRd9VE"
      }
    },
    {
      "cell_type": "code",
      "source": [
        "scifrom_feature = inttech_scifrom_dataset[\"scifrom\"]\n",
        "\n",
        "print(scifrom_feature.shape)\n",
        "print(scifrom_feature.describe())\n",
        "print(scifrom_feature.unique())\n",
        "print(scifrom_feature.value_counts())"
      ],
      "metadata": {
        "id": "fTu6vkVPQc4d",
        "colab": {
          "base_uri": "https://localhost:8080/"
        },
        "outputId": "c17673dc-b06f-4f4f-fa3b-83125456e1ad"
      },
      "execution_count": 24,
      "outputs": [
        {
          "output_type": "stream",
          "name": "stdout",
          "text": [
            "(24130,)\n",
            "count             7694\n",
            "unique              11\n",
            "top       the internet\n",
            "freq              3024\n",
            "Name: scifrom, dtype: object\n",
            "[NaN, 'the internet', 'magazines', 'tv', 'family', ..., 'friends/colleagues', 'radio', 'other', 'government agencies', 'ted talks']\n",
            "Length: 12\n",
            "Categories (24, object): ['newspapers', 'magazines', 'the internet',\n",
            "                          'books/other printed material', ..., 'uncodeable', 'not available in this release',\n",
            "                          'not available in this year', 'see codebook']\n",
            "the internet                     3024\n",
            "tv                               2607\n",
            "magazines                         607\n",
            "newspapers                        547\n",
            "books/other printed material      354\n",
            "radio                             168\n",
            "family                            154\n",
            "friends/colleagues                151\n",
            "other                              66\n",
            "government agencies                15\n",
            "ted talks                           1\n",
            "not imputable_(2147483638)          0\n",
            "not available in this year          0\n",
            "not available in this release       0\n",
            "uncodeable                          0\n",
            "skipped on web                      0\n",
            "refused                             0\n",
            "iap                                 0\n",
            "not imputable_(2147483637)          0\n",
            "no answer                           0\n",
            "dk, na, iap                         0\n",
            "I don't have a job                  0\n",
            "don't know                          0\n",
            "see codebook                        0\n",
            "Name: scifrom, dtype: int64\n"
          ]
        }
      ]
    },
    {
      "cell_type": "code",
      "source": [
        "scifrom_feature_cleaned = scifrom_feature.apply(lambda z: replace_value(z, [\"not imputable_(2147483638)\", \"not available in this year\",\n",
        "                                                                            \"not available in this release\", \"uncodeable\", \"skipped on web\",\n",
        "                                                                            \"refused\", \"iap\", \"not imputable_(2147483637)\", \"no answer\", \"dk, na, iap\",\n",
        "                                                                            \"I don't have a job\", \"don't know\", \"see codebook\"], \"not applicable\"))"
      ],
      "metadata": {
        "id": "NHYTtEaUdI2_"
      },
      "execution_count": 25,
      "outputs": []
    },
    {
      "cell_type": "code",
      "source": [
        "scifrom_feature_cleaned = scifrom_feature_cleaned.replace(np.nan, \"not applicable\")\n",
        "\n",
        "print(scifrom_feature_cleaned.shape)\n",
        "print(scifrom_feature_cleaned.describe())\n",
        "print(scifrom_feature_cleaned.unique())\n",
        "print(scifrom_feature_cleaned.value_counts())"
      ],
      "metadata": {
        "colab": {
          "base_uri": "https://localhost:8080/"
        },
        "id": "Dx871j8JfZ-0",
        "outputId": "c0b31d76-e5c3-4793-857b-ce08049f5b3e"
      },
      "execution_count": 28,
      "outputs": [
        {
          "output_type": "stream",
          "name": "stdout",
          "text": [
            "(24130,)\n",
            "count              24130\n",
            "unique                12\n",
            "top       not applicable\n",
            "freq               16436\n",
            "Name: scifrom, dtype: object\n",
            "['not applicable' 'the internet' 'magazines' 'tv' 'family'\n",
            " 'books/other printed material' 'newspapers' 'friends/colleagues' 'radio'\n",
            " 'other' 'government agencies' 'ted talks']\n",
            "not applicable                  16436\n",
            "the internet                     3024\n",
            "tv                               2607\n",
            "magazines                         607\n",
            "newspapers                        547\n",
            "books/other printed material      354\n",
            "radio                             168\n",
            "family                            154\n",
            "friends/colleagues                151\n",
            "other                              66\n",
            "government agencies                15\n",
            "ted talks                           1\n",
            "Name: scifrom, dtype: int64\n"
          ]
        }
      ]
    },
    {
      "cell_type": "code",
      "source": [
        "scifrom_histplot = sns.histplot(scifrom_feature_cleaned)\n",
        "scifrom_histplot.set_xticklabels(scifrom_histplot.get_xticklabels(), rotation = 90)"
      ],
      "metadata": {
        "colab": {
          "base_uri": "https://localhost:8080/",
          "height": 878
        },
        "id": "Q9eTPlWkfbSg",
        "outputId": "8118f9ba-a2a0-4020-eb5b-01d7cad4ed4a"
      },
      "execution_count": 46,
      "outputs": [
        {
          "output_type": "stream",
          "name": "stderr",
          "text": [
            "<ipython-input-46-266f39e214ef>:2: UserWarning: FixedFormatter should only be used together with FixedLocator\n",
            "  scifrom_histplot.set_xticklabels(scifrom_histplot.get_xticklabels(), rotation = 90)\n"
          ]
        },
        {
          "output_type": "execute_result",
          "data": {
            "text/plain": [
              "[Text(0, 0, 'not applicable'),\n",
              " Text(1, 0, 'the internet'),\n",
              " Text(2, 0, 'magazines'),\n",
              " Text(3, 0, 'tv'),\n",
              " Text(4, 0, 'family'),\n",
              " Text(5, 0, 'books/other printed material'),\n",
              " Text(6, 0, 'newspapers'),\n",
              " Text(7, 0, 'friends/colleagues'),\n",
              " Text(8, 0, 'radio'),\n",
              " Text(9, 0, 'other'),\n",
              " Text(10, 0, 'government agencies'),\n",
              " Text(11, 0, 'ted talks')]"
            ]
          },
          "metadata": {},
          "execution_count": 46
        },
        {
          "output_type": "display_data",
          "data": {
            "text/plain": [
              "<Figure size 640x480 with 1 Axes>"
            ],
            "image/png": "[encoded data removed]"
          },
          "metadata": {}
        }
      ]
    },
    {
      "cell_type": "markdown",
      "source": [
        "It seems as if the largest count happens to be **not applicable** by a large margin just like the **inttech** dataset. This could mean that the surveyees either did not respond, could not choose, or something the question was skipped. This does not surprise me. It seems as if of all people who answered, the most popular sources of information is from **the internet*** or **tv**. This makes sense since **the internet** and **tv** are the most readily available and provide the most information the quickest."
      ],
      "metadata": {
        "id": "77fOlvwbhudQ"
      }
    },
    {
      "cell_type": "markdown",
      "source": [
        "### **Combination of Both**"
      ],
      "metadata": {
        "id": "TY-mRICCjLi5"
      }
    },
    {
      "cell_type": "code",
      "source": [
        "inttech_scifrom_cleaned = pd.DataFrame(columns = [\"inttech\", \"scifrom\"])\n",
        "inttech_scifrom_cleaned[\"inttech\"] = inttech_feature_cleaned\n",
        "inttech_scifrom_cleaned[\"scifrom\"] = scifrom_feature_cleaned\n",
        "\n",
        "inttech_scifrom_cleaned.head()"
      ],
      "metadata": {
        "colab": {
          "base_uri": "https://localhost:8080/",
          "height": 206
        },
        "id": "97tpLUv1f705",
        "outputId": "5bd0344e-8d21-4b34-8efa-e1c65e4e7fd2"
      },
      "execution_count": 50,
      "outputs": [
        {
          "output_type": "execute_result",
          "data": {
            "text/plain": [
              "          inttech         scifrom\n",
              "0  not applicable  not applicable\n",
              "1  not applicable    the internet\n",
              "2  not applicable       magazines\n",
              "3  not applicable  not applicable\n",
              "4  not applicable              tv"
            ],
            "text/html": [
              "\n",
              "  <div id=\"df-f3c6b913-bff5-4c57-935c-9190b92872db\" class=\"colab-df-container\">\n",
              "    <div>\n",
              "<style scoped>\n",
              "    .dataframe tbody tr th:only-of-type {\n",
              "        vertical-align: middle;\n",
              "    }\n",
              "\n",
              "    .dataframe tbody tr th {\n",
              "        vertical-align: top;\n",
              "    }\n",
              "\n",
              "    .dataframe thead th {\n",
              "        text-align: right;\n",
              "    }\n",
              "</style>\n",
              "<table border=\"1\" class=\"dataframe\">\n",
              "  <thead>\n",
              "    <tr style=\"text-align: right;\">\n",
              "      <th></th>\n",
              "      <th>inttech</th>\n",
              "      <th>scifrom</th>\n",
              "    </tr>\n",
              "  </thead>\n",
              "  <tbody>\n",
              "    <tr>\n",
              "      <th>0</th>\n",
              "      <td>not applicable</td>\n",
              "      <td>not applicable</td>\n",
              "    </tr>\n",
              "    <tr>\n",
              "      <th>1</th>\n",
              "      <td>not applicable</td>\n",
              "      <td>the internet</td>\n",
              "    </tr>\n",
              "    <tr>\n",
              "      <th>2</th>\n",
              "      <td>not applicable</td>\n",
              "      <td>magazines</td>\n",
              "    </tr>\n",
              "    <tr>\n",
              "      <th>3</th>\n",
              "      <td>not applicable</td>\n",
              "      <td>not applicable</td>\n",
              "    </tr>\n",
              "    <tr>\n",
              "      <th>4</th>\n",
              "      <td>not applicable</td>\n",
              "      <td>tv</td>\n",
              "    </tr>\n",
              "  </tbody>\n",
              "</table>\n",
              "</div>\n",
              "    <div class=\"colab-df-buttons\">\n",
              "\n",
              "  <div class=\"colab-df-container\">\n",
              "    <button class=\"colab-df-convert\" onclick=\"convertToInteractive('df-f3c6b913-bff5-4c57-935c-9190b92872db')\"\n",
              "            title=\"Convert this dataframe to an interactive table.\"\n",
              "            style=\"display:none;\">\n",
              "\n",
              "  <svg xmlns=\"http://www.w3.org/2000/svg\" height=\"24px\" viewBox=\"0 -960 960 960\">\n",
              "    <path d=\"M120-120v-720h720v720H120Zm60-500h600v-160H180v160Zm220 220h160v-160H400v160Zm0 220h160v-160H400v160ZM180-400h160v-160H180v160Zm440 0h160v-160H620v160ZM180-180h160v-160H180v160Zm440 0h160v-160H620v160Z\"/>\n",
              "  </svg>\n",
              "    </button>\n",
              "\n",
              "  <style>\n",
              "    .colab-df-container {\n",
              "      display:flex;\n",
              "      gap: 12px;\n",
              "    }\n",
              "\n",
              "    .colab-df-convert {\n",
              "      background-color: #E8F0FE;\n",
              "      border: none;\n",
              "      border-radius: 50%;\n",
              "      cursor: pointer;\n",
              "      display: none;\n",
              "      fill: #1967D2;\n",
              "      height: 32px;\n",
              "      padding: 0 0 0 0;\n",
              "      width: 32px;\n",
              "    }\n",
              "\n",
              "    .colab-df-convert:hover {\n",
              "      background-color: #E2EBFA;\n",
              "      box-shadow: 0px 1px 2px rgba(60, 64, 67, 0.3), 0px 1px 3px 1px rgba(60, 64, 67, 0.15);\n",
              "      fill: #174EA6;\n",
              "    }\n",
              "\n",
              "    .colab-df-buttons div {\n",
              "      margin-bottom: 4px;\n",
              "    }\n",
              "\n",
              "    [theme=dark] .colab-df-convert {\n",
              "      background-color: #3B4455;\n",
              "      fill: #D2E3FC;\n",
              "    }\n",
              "\n",
              "    [theme=dark] .colab-df-convert:hover {\n",
              "      background-color: #434B5C;\n",
              "      box-shadow: 0px 1px 3px 1px rgba(0, 0, 0, 0.15);\n",
              "      filter: drop-shadow(0px 1px 2px rgba(0, 0, 0, 0.3));\n",
              "      fill: #FFFFFF;\n",
              "    }\n",
              "  </style>\n",
              "\n",
              "    <script>\n",
              "      const buttonEl =\n",
              "        document.querySelector('#df-f3c6b913-bff5-4c57-935c-9190b92872db button.colab-df-convert');\n",
              "      buttonEl.style.display =\n",
              "        google.colab.kernel.accessAllowed ? 'block' : 'none';\n",
              "\n",
              "      async function convertToInteractive(key) {\n",
              "        const element = document.querySelector('#df-f3c6b913-bff5-4c57-935c-9190b92872db');\n",
              "        const dataTable =\n",
              "          await google.colab.kernel.invokeFunction('convertToInteractive',\n",
              "                                                    [key], {});\n",
              "        if (!dataTable) return;\n",
              "\n",
              "        const docLinkHtml = 'Like what you see? Visit the ' +\n",
              "          '<a target=\"_blank\" href=https://colab.research.google.com/notebooks/data_table.ipynb>data table notebook</a>'\n",
              "          + ' to learn more about interactive tables.';\n",
              "        element.innerHTML = '';\n",
              "        dataTable['output_type'] = 'display_data';\n",
              "        await google.colab.output.renderOutput(dataTable, element);\n",
              "        const docLink = document.createElement('div');\n",
              "        docLink.innerHTML = docLinkHtml;\n",
              "        element.appendChild(docLink);\n",
              "      }\n",
              "    </script>\n",
              "  </div>\n",
              "\n",
              "\n",
              "<div id=\"df-b43a3341-c9ca-407d-80ac-a11161938614\">\n",
              "  <button class=\"colab-df-quickchart\" onclick=\"quickchart('df-b43a3341-c9ca-407d-80ac-a11161938614')\"\n",
              "            title=\"Suggest charts\"\n",
              "            style=\"display:none;\">\n",
              "\n",
              "<svg xmlns=\"http://www.w3.org/2000/svg\" height=\"24px\"viewBox=\"0 0 24 24\"\n",
              "     width=\"24px\">\n",
              "    <g>\n",
              "        <path d=\"M19 3H5c-1.1 0-2 .9-2 2v14c0 1.1.9 2 2 2h14c1.1 0 2-.9 2-2V5c0-1.1-.9-2-2-2zM9 17H7v-7h2v7zm4 0h-2V7h2v10zm4 0h-2v-4h2v4z\"/>\n",
              "    </g>\n",
              "</svg>\n",
              "  </button>\n",
              "\n",
              "<style>\n",
              "  .colab-df-quickchart {\n",
              "      --bg-color: #E8F0FE;\n",
              "      --fill-color: #1967D2;\n",
              "      --hover-bg-color: #E2EBFA;\n",
              "      --hover-fill-color: #174EA6;\n",
              "      --disabled-fill-color: #AAA;\n",
              "      --disabled-bg-color: #DDD;\n",
              "  }\n",
              "\n",
              "  [theme=dark] .colab-df-quickchart {\n",
              "      --bg-color: #3B4455;\n",
              "      --fill-color: #D2E3FC;\n",
              "      --hover-bg-color: #434B5C;\n",
              "      --hover-fill-color: #FFFFFF;\n",
              "      --disabled-bg-color: #3B4455;\n",
              "      --disabled-fill-color: #666;\n",
              "  }\n",
              "\n",
              "  .colab-df-quickchart {\n",
              "    background-color: var(--bg-color);\n",
              "    border: none;\n",
              "    border-radius: 50%;\n",
              "    cursor: pointer;\n",
              "    display: none;\n",
              "    fill: var(--fill-color);\n",
              "    height: 32px;\n",
              "    padding: 0;\n",
              "    width: 32px;\n",
              "  }\n",
              "\n",
              "  .colab-df-quickchart:hover {\n",
              "    background-color: var(--hover-bg-color);\n",
              "    box-shadow: 0 1px 2px rgba(60, 64, 67, 0.3), 0 1px 3px 1px rgba(60, 64, 67, 0.15);\n",
              "    fill: var(--button-hover-fill-color);\n",
              "  }\n",
              "\n",
              "  .colab-df-quickchart-complete:disabled,\n",
              "  .colab-df-quickchart-complete:disabled:hover {\n",
              "    background-color: var(--disabled-bg-color);\n",
              "    fill: var(--disabled-fill-color);\n",
              "    box-shadow: none;\n",
              "  }\n",
              "\n",
              "  .colab-df-spinner {\n",
              "    border: 2px solid var(--fill-color);\n",
              "    border-color: transparent;\n",
              "    border-bottom-color: var(--fill-color);\n",
              "    animation:\n",
              "      spin 1s steps(1) infinite;\n",
              "  }\n",
              "\n",
              "  @keyframes spin {\n",
              "    0% {\n",
              "      border-color: transparent;\n",
              "      border-bottom-color: var(--fill-color);\n",
              "      border-left-color: var(--fill-color);\n",
              "    }\n",
              "    20% {\n",
              "      border-color: transparent;\n",
              "      border-left-color: var(--fill-color);\n",
              "      border-top-color: var(--fill-color);\n",
              "    }\n",
              "    30% {\n",
              "      border-color: transparent;\n",
              "      border-left-color: var(--fill-color);\n",
              "      border-top-color: var(--fill-color);\n",
              "      border-right-color: var(--fill-color);\n",
              "    }\n",
              "    40% {\n",
              "      border-color: transparent;\n",
              "      border-right-color: var(--fill-color);\n",
              "      border-top-color: var(--fill-color);\n",
              "    }\n",
              "    60% {\n",
              "      border-color: transparent;\n",
              "      border-right-color: var(--fill-color);\n",
              "    }\n",
              "    80% {\n",
              "      border-color: transparent;\n",
              "      border-right-color: var(--fill-color);\n",
              "      border-bottom-color: var(--fill-color);\n",
              "    }\n",
              "    90% {\n",
              "      border-color: transparent;\n",
              "      border-bottom-color: var(--fill-color);\n",
              "    }\n",
              "  }\n",
              "</style>\n",
              "\n",
              "  <script>\n",
              "    async function quickchart(key) {\n",
              "      const quickchartButtonEl =\n",
              "        document.querySelector('#' + key + ' button');\n",
              "      quickchartButtonEl.disabled = true;  // To prevent multiple clicks.\n",
              "      quickchartButtonEl.classList.add('colab-df-spinner');\n",
              "      try {\n",
              "        const charts = await google.colab.kernel.invokeFunction(\n",
              "            'suggestCharts', [key], {});\n",
              "      } catch (error) {\n",
              "        console.error('Error during call to suggestCharts:', error);\n",
              "      }\n",
              "      quickchartButtonEl.classList.remove('colab-df-spinner');\n",
              "      quickchartButtonEl.classList.add('colab-df-quickchart-complete');\n",
              "    }\n",
              "    (() => {\n",
              "      let quickchartButtonEl =\n",
              "        document.querySelector('#df-b43a3341-c9ca-407d-80ac-a11161938614 button');\n",
              "      quickchartButtonEl.style.display =\n",
              "        google.colab.kernel.accessAllowed ? 'block' : 'none';\n",
              "    })();\n",
              "  </script>\n",
              "</div>\n",
              "\n",
              "    </div>\n",
              "  </div>\n"
            ],
            "application/vnd.google.colaboratory.intrinsic+json": {
              "type": "dataframe",
              "variable_name": "inttech_scifrom_cleaned",
              "summary": "{\n  \"name\": \"inttech_scifrom_cleaned\",\n  \"rows\": 24130,\n  \"fields\": [\n    {\n      \"column\": \"inttech\",\n      \"properties\": {\n        \"dtype\": \"category\",\n        \"num_unique_values\": 4,\n        \"samples\": [\n          \"very interested\",\n          \"moderately interested\",\n          \"not applicable\"\n        ],\n        \"semantic_type\": \"\",\n        \"description\": \"\"\n      }\n    },\n    {\n      \"column\": \"scifrom\",\n      \"properties\": {\n        \"dtype\": \"category\",\n        \"num_unique_values\": 12,\n        \"samples\": [\n          \"government agencies\",\n          \"other\",\n          \"not applicable\"\n        ],\n        \"semantic_type\": \"\",\n        \"description\": \"\"\n      }\n    }\n  ]\n}"
            }
          },
          "metadata": {},
          "execution_count": 50
        }
      ]
    },
    {
      "cell_type": "code",
      "source": [
        "crosstab = pd.crosstab(inttech_scifrom_cleaned[\"inttech\"], inttech_scifrom_cleaned[\"scifrom\"])\n",
        "print(crosstab)"
      ],
      "metadata": {
        "colab": {
          "base_uri": "https://localhost:8080/"
        },
        "id": "YbmmIi0Xjq1D",
        "outputId": "e5ffef70-ab3f-40e1-8d5b-359bbdd9b78f"
      },
      "execution_count": 53,
      "outputs": [
        {
          "output_type": "stream",
          "name": "stdout",
          "text": [
            "scifrom                books/other printed material  family  \\\n",
            "inttech                                                       \n",
            "moderately interested                            93      65   \n",
            "not applicable                                  107      26   \n",
            "not at all interested                            24      34   \n",
            "very interested                                 130      29   \n",
            "\n",
            "scifrom                friends/colleagues  government agencies  magazines  \\\n",
            "inttech                                                                     \n",
            "moderately interested                  63                    5        211   \n",
            "not applicable                         23                    3        138   \n",
            "not at all interested                  25                    1         37   \n",
            "very interested                        40                    6        221   \n",
            "\n",
            "scifrom                newspapers  not applicable  other  radio  ted talks  \\\n",
            "inttech                                                                      \n",
            "moderately interested         237            1193     17     73          0   \n",
            "not applicable                127           14001     27     18          0   \n",
            "not at all interested          43             263     16     27          0   \n",
            "very interested               140             979      6     50          1   \n",
            "\n",
            "scifrom                the internet    tv  \n",
            "inttech                                    \n",
            "moderately interested          1189  1015  \n",
            "not applicable                  268   532  \n",
            "not at all interested           224   339  \n",
            "very interested                1343   721  \n"
          ]
        }
      ]
    },
    {
      "cell_type": "code",
      "source": [
        "category = \"very interested\"\n",
        "\n",
        "inttech_scifrom_filtered = inttech_scifrom_cleaned[inttech_scifrom_cleaned[\"inttech\"] == category]\n",
        "\n",
        "very_interested_histplot = sns.histplot(x = \"scifrom\", data = inttech_scifrom_filtered)\n",
        "very_interested_histplot.set_xticklabels(very_interested_histplot.get_xticklabels(), rotation = 90)"
      ],
      "metadata": {
        "colab": {
          "base_uri": "https://localhost:8080/",
          "height": 881
        },
        "id": "KycX-UUwngfR",
        "outputId": "0f5a6ca3-77bf-468b-cdf5-672d0e57d641"
      },
      "execution_count": 69,
      "outputs": [
        {
          "output_type": "stream",
          "name": "stderr",
          "text": [
            "<ipython-input-69-5a0db4820b7e>:6: UserWarning: FixedFormatter should only be used together with FixedLocator\n",
            "  very_interested_histplot.set_xticklabels(very_interested_histplot.get_xticklabels(), rotation = 90)\n"
          ]
        },
        {
          "output_type": "execute_result",
          "data": {
            "text/plain": [
              "[Text(0, 0, 'magazines'),\n",
              " Text(1, 0, 'newspapers'),\n",
              " Text(2, 0, 'the internet'),\n",
              " Text(3, 0, 'tv'),\n",
              " Text(4, 0, 'books/other printed material'),\n",
              " Text(5, 0, 'friends/colleagues'),\n",
              " Text(6, 0, 'radio'),\n",
              " Text(7, 0, 'not applicable'),\n",
              " Text(8, 0, 'family'),\n",
              " Text(9, 0, 'other'),\n",
              " Text(10, 0, 'government agencies'),\n",
              " Text(11, 0, 'ted talks')]"
            ]
          },
          "metadata": {},
          "execution_count": 69
        },
        {
          "output_type": "display_data",
          "data": {
            "text/plain": [
              "<Figure size 640x480 with 1 Axes>"
            ],
            "image/png": "[encoded data removed]"
          },
          "metadata": {}
        }
      ]
    },
    {
      "cell_type": "code",
      "source": [
        "category = \"moderately interested\"\n",
        "\n",
        "inttech_scifrom_filtered = inttech_scifrom_cleaned[inttech_scifrom_cleaned[\"inttech\"] == category]\n",
        "\n",
        "very_interested_histplot = sns.histplot(x = \"scifrom\", data = inttech_scifrom_filtered)\n",
        "very_interested_histplot.set_xticklabels(very_interested_histplot.get_xticklabels(), rotation = 90)"
      ],
      "metadata": {
        "colab": {
          "base_uri": "https://localhost:8080/",
          "height": 861
        },
        "id": "_tIGeVNMrClf",
        "outputId": "0bd224cf-89ef-4517-ee02-ef88a2c5aaa4"
      },
      "execution_count": 70,
      "outputs": [
        {
          "output_type": "stream",
          "name": "stderr",
          "text": [
            "<ipython-input-70-11023665b0d4>:6: UserWarning: FixedFormatter should only be used together with FixedLocator\n",
            "  very_interested_histplot.set_xticklabels(very_interested_histplot.get_xticklabels(), rotation = 90)\n"
          ]
        },
        {
          "output_type": "execute_result",
          "data": {
            "text/plain": [
              "[Text(0, 0, 'tv'),\n",
              " Text(1, 0, 'the internet'),\n",
              " Text(2, 0, 'newspapers'),\n",
              " Text(3, 0, 'family'),\n",
              " Text(4, 0, 'magazines'),\n",
              " Text(5, 0, 'other'),\n",
              " Text(6, 0, 'books/other printed material'),\n",
              " Text(7, 0, 'radio'),\n",
              " Text(8, 0, 'not applicable'),\n",
              " Text(9, 0, 'friends/colleagues'),\n",
              " Text(10, 0, 'government agencies')]"
            ]
          },
          "metadata": {},
          "execution_count": 70
        },
        {
          "output_type": "display_data",
          "data": {
            "text/plain": [
              "<Figure size 640x480 with 1 Axes>"
            ],
            "image/png": "[encoded data removed]"
          },
          "metadata": {}
        }
      ]
    },
    {
      "cell_type": "markdown",
      "source": [
        "Using the crosstab, it seems as if those who are **moderately interested** or **very interested** primarily get their information from the internet and tv. Interestingly, there are signficantly more people who are **very interested** get their information from the **the internet** with a value $1343$ than from **tv** with a value of $721$. Yet, for those who are **moderately interested**, the number of people who get their information from **the internet** vs **tv** are roughly the same. I wonder if those who **very interested** are just on the internet all day are more technically adept so they prefer **the internet**. Only one person who was **very interested** gets their information from **ted talks**. In addition, most of the people who are **moderately interested** did not share where they got their information.  "
      ],
      "metadata": {
        "id": "dtePRKbIkz0b"
      }
    },
    {
      "cell_type": "code",
      "source": [
        "|"
      ],
      "metadata": {
        "id": "gnbb9EqhoKdG"
      },
      "execution_count": null,
      "outputs": []
    }
  ]
}